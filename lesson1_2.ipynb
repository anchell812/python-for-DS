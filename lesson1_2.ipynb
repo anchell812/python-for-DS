{
  "nbformat": 4,
  "nbformat_minor": 0,
  "metadata": {
    "colab": {
      "name": "Untitled0.ipynb",
      "provenance": [],
      "authorship_tag": "ABX9TyN/oQYuVL7ufocZlyZy4WR/",
      "include_colab_link": true
    },
    "kernelspec": {
      "name": "python3",
      "display_name": "Python 3"
    }
  },
  "cells": [
    {
      "cell_type": "markdown",
      "metadata": {
        "id": "view-in-github",
        "colab_type": "text"
      },
      "source": [
        "<a href=\"https://colab.research.google.com/github/anchell812/python-for-DS/blob/main/lesson1_2.ipynb\" target=\"_parent\"><img src=\"https://colab.research.google.com/assets/colab-badge.svg\" alt=\"Open In Colab\"/></a>"
      ]
    },
    {
      "cell_type": "code",
      "metadata": {
        "colab": {
          "base_uri": "https://localhost:8080/"
        },
        "id": "ijqT6zT7JUYi",
        "outputId": "e2aa8d0b-b211-417c-c6c9-686f0ada1ec4"
      },
      "source": [
        "import numpy as np\r\n",
        "a = np.array ([[1, 6],\r\n",
        "              [2, 8],\r\n",
        "              [3, 11],\r\n",
        "              [3, 10],\r\n",
        "              [1, 7]])\r\n",
        "print(a)\r\n",
        "\r\n",
        "mean_a = np.mean(a, axis = 0)\r\n",
        "print(mean_a)"
      ],
      "execution_count": 12,
      "outputs": [
        {
          "output_type": "stream",
          "text": [
            "[[ 1  6]\n",
            " [ 2  8]\n",
            " [ 3 11]\n",
            " [ 3 10]\n",
            " [ 1  7]]\n",
            "[2.  8.4]\n"
          ],
          "name": "stdout"
        }
      ]
    },
    {
      "cell_type": "code",
      "metadata": {
        "colab": {
          "base_uri": "https://localhost:8080/"
        },
        "id": "xJIL_uOlSG0k",
        "outputId": "81387df7-4f8d-4a78-ec0e-14f40767a3ab"
      },
      "source": [
        "a_centered = a - mean_a\r\n",
        "print(a_centered)"
      ],
      "execution_count": 13,
      "outputs": [
        {
          "output_type": "stream",
          "text": [
            "[[-1.  -2.4]\n",
            " [ 0.  -0.4]\n",
            " [ 1.   2.6]\n",
            " [ 1.   1.6]\n",
            " [-1.  -1.4]]\n"
          ],
          "name": "stdout"
        }
      ]
    },
    {
      "cell_type": "code",
      "metadata": {
        "colab": {
          "base_uri": "https://localhost:8080/"
        },
        "id": "5_75mMRTXAmX",
        "outputId": "dc3f5fd3-0795-4ddb-bc24-c78d26805b6a"
      },
      "source": [
        "a_centered_sp = a_centered.T[0] @ a_centered.T[1]\r\n",
        "print(a_centered_sp)\r\n",
        "\r\n",
        "n = a_centered_sp / (a_centered.shape[0] - 1)\r\n",
        "print(n)"
      ],
      "execution_count": 16,
      "outputs": [
        {
          "output_type": "stream",
          "text": [
            "8.0\n",
            "2.0\n"
          ],
          "name": "stdout"
        }
      ]
    },
    {
      "cell_type": "code",
      "metadata": {
        "colab": {
          "base_uri": "https://localhost:8080/"
        },
        "id": "1KUZJtAuaH0s",
        "outputId": "c123e95a-0bf9-4f8c-971e-994bcc118061"
      },
      "source": [
        "import pandas as pd\r\n",
        "\r\n",
        "authors = {\r\n",
        "    \"author_id\": [1, 2, 3],\r\n",
        "    \"author_name\": [\"Тургенев\", \"Чехов\", \"Островский\"]\r\n",
        "}\r\n",
        "\r\n",
        "b = pd.DataFrame(authors)\r\n",
        "\r\n",
        "print(b)\r\n",
        "\r\n",
        "book = {\r\n",
        "    \"author_id\": [1, 1, 1, 2, 2, 3, 3],\r\n",
        "    \"book_title\": ['Отцы и дети', 'Рудин', 'Дворянское гнездо', 'Толстый и тонкий', 'Дама с собачкой', 'Гроза', 'Таланты и поклонники'],\r\n",
        "    \"price\": [450, 300, 350, 500, 450, 370, 290]\r\n",
        "}\r\n",
        "\r\n",
        "c = pd.DataFrame(book)\r\n",
        "\r\n",
        "print(c)\r\n",
        "\r\n",
        "a = pd.merge(b, c, on='author_id', how='inner')\r\n",
        "print(a)\r\n",
        "\r\n",
        "top5 = a.nlargest(5, 'price')\r\n",
        "print(top5)\r\n",
        "\r\n",
        "author_stat = a['author_name'].value_counts()\r\n",
        "print(author_stat)\r\n",
        "\r\n",
        "author_stat = a.groupby('author_name').agg({'price':['min', 'max', 'mean']})\r\n",
        "print(author_stat)\r\n",
        "\r\n",
        "\r\n"
      ],
      "execution_count": 31,
      "outputs": [
        {
          "output_type": "stream",
          "text": [
            "   author_id author_name\n",
            "0          1    Тургенев\n",
            "1          2       Чехов\n",
            "2          3  Островский\n",
            "   author_id            book_title  price\n",
            "0          1           Отцы и дети    450\n",
            "1          1                 Рудин    300\n",
            "2          1     Дворянское гнездо    350\n",
            "3          2      Толстый и тонкий    500\n",
            "4          2       Дама с собачкой    450\n",
            "5          3                 Гроза    370\n",
            "6          3  Таланты и поклонники    290\n",
            "   author_id author_name            book_title  price\n",
            "0          1    Тургенев           Отцы и дети    450\n",
            "1          1    Тургенев                 Рудин    300\n",
            "2          1    Тургенев     Дворянское гнездо    350\n",
            "3          2       Чехов      Толстый и тонкий    500\n",
            "4          2       Чехов       Дама с собачкой    450\n",
            "5          3  Островский                 Гроза    370\n",
            "6          3  Островский  Таланты и поклонники    290\n",
            "   author_id author_name         book_title  price\n",
            "3          2       Чехов   Толстый и тонкий    500\n",
            "0          1    Тургенев        Отцы и дети    450\n",
            "4          2       Чехов    Дама с собачкой    450\n",
            "5          3  Островский              Гроза    370\n",
            "2          1    Тургенев  Дворянское гнездо    350\n",
            "Тургенев      3\n",
            "Островский    2\n",
            "Чехов         2\n",
            "Name: author_name, dtype: int64\n",
            "            price                 \n",
            "              min  max        mean\n",
            "author_name                       \n",
            "Островский    290  370  330.000000\n",
            "Тургенев      300  450  366.666667\n",
            "Чехов         450  500  475.000000\n"
          ],
          "name": "stdout"
        }
      ]
    },
    {
      "cell_type": "markdown",
      "metadata": {
        "id": "mb0Jh87ITysh"
      },
      "source": [
        "# Новый раздел"
      ]
    }
  ]
}